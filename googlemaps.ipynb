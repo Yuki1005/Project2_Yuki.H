{
 "cells": [
  {
   "cell_type": "code",
   "execution_count": 2,
   "metadata": {},
   "outputs": [
    {
     "name": "stdout",
     "output_type": "stream",
     "text": [
      "霊山寺\n"
     ]
    },
    {
     "ename": "ApiError",
     "evalue": "REQUEST_DENIED (You must enable Billing on the Google Cloud Project at https://console.cloud.google.com/project/_/billing/enable Learn more at https://developers.google.com/maps/gmp-get-started)",
     "output_type": "error",
     "traceback": [
      "\u001b[1;31m---------------------------------------------------------------------------\u001b[0m",
      "\u001b[1;31mApiError\u001b[0m                                  Traceback (most recent call last)",
      "Cell \u001b[1;32mIn[2], line 16\u001b[0m\n\u001b[0;32m     14\u001b[0m \u001b[39mfor\u001b[39;00m row \u001b[39min\u001b[39;00m reader:\n\u001b[0;32m     15\u001b[0m     \u001b[39mprint\u001b[39m(row[\u001b[39m0\u001b[39m])\n\u001b[1;32m---> 16\u001b[0m     result \u001b[39m=\u001b[39m gmaps\u001b[39m.\u001b[39;49mgeocode(row[\u001b[39m0\u001b[39;49m])\n\u001b[0;32m     17\u001b[0m     lat \u001b[39m=\u001b[39m result[\u001b[39m0\u001b[39m][\u001b[39m\"\u001b[39m\u001b[39mgeometry\u001b[39m\u001b[39m\"\u001b[39m][\u001b[39m\"\u001b[39m\u001b[39mlocation\u001b[39m\u001b[39m\"\u001b[39m][\u001b[39m\"\u001b[39m\u001b[39mlat\u001b[39m\u001b[39m\"\u001b[39m]\n\u001b[0;32m     18\u001b[0m     lng \u001b[39m=\u001b[39m result[\u001b[39m0\u001b[39m][\u001b[39m\"\u001b[39m\u001b[39mgeometry\u001b[39m\u001b[39m\"\u001b[39m][\u001b[39m\"\u001b[39m\u001b[39mlocation\u001b[39m\u001b[39m\"\u001b[39m][\u001b[39m\"\u001b[39m\u001b[39mlng\u001b[39m\u001b[39m\"\u001b[39m]\n",
      "File \u001b[1;32mc:\\Users\\yhira\\anaconda3\\envs\\only-pip\\Lib\\site-packages\\googlemaps\\client.py:445\u001b[0m, in \u001b[0;36mmake_api_method.<locals>.wrapper\u001b[1;34m(*args, **kwargs)\u001b[0m\n\u001b[0;32m    442\u001b[0m \u001b[39m@functools\u001b[39m\u001b[39m.\u001b[39mwraps(func)\n\u001b[0;32m    443\u001b[0m \u001b[39mdef\u001b[39;00m \u001b[39mwrapper\u001b[39m(\u001b[39m*\u001b[39margs, \u001b[39m*\u001b[39m\u001b[39m*\u001b[39mkwargs):\n\u001b[0;32m    444\u001b[0m     args[\u001b[39m0\u001b[39m]\u001b[39m.\u001b[39m_extra_params \u001b[39m=\u001b[39m kwargs\u001b[39m.\u001b[39mpop(\u001b[39m\"\u001b[39m\u001b[39mextra_params\u001b[39m\u001b[39m\"\u001b[39m, \u001b[39mNone\u001b[39;00m)\n\u001b[1;32m--> 445\u001b[0m     result \u001b[39m=\u001b[39m func(\u001b[39m*\u001b[39;49margs, \u001b[39m*\u001b[39;49m\u001b[39m*\u001b[39;49mkwargs)\n\u001b[0;32m    446\u001b[0m     \u001b[39mtry\u001b[39;00m:\n\u001b[0;32m    447\u001b[0m         \u001b[39mdel\u001b[39;00m args[\u001b[39m0\u001b[39m]\u001b[39m.\u001b[39m_extra_params\n",
      "File \u001b[1;32mc:\\Users\\yhira\\anaconda3\\envs\\only-pip\\Lib\\site-packages\\googlemaps\\geocoding.py:75\u001b[0m, in \u001b[0;36mgeocode\u001b[1;34m(client, address, place_id, components, bounds, region, language)\u001b[0m\n\u001b[0;32m     72\u001b[0m \u001b[39mif\u001b[39;00m language:\n\u001b[0;32m     73\u001b[0m     params[\u001b[39m\"\u001b[39m\u001b[39mlanguage\u001b[39m\u001b[39m\"\u001b[39m] \u001b[39m=\u001b[39m language\n\u001b[1;32m---> 75\u001b[0m \u001b[39mreturn\u001b[39;00m client\u001b[39m.\u001b[39;49m_request(\u001b[39m\"\u001b[39;49m\u001b[39m/maps/api/geocode/json\u001b[39;49m\u001b[39m\"\u001b[39;49m, params)\u001b[39m.\u001b[39mget(\u001b[39m\"\u001b[39m\u001b[39mresults\u001b[39m\u001b[39m\"\u001b[39m, [])\n",
      "File \u001b[1;32mc:\\Users\\yhira\\anaconda3\\envs\\only-pip\\Lib\\site-packages\\googlemaps\\client.py:340\u001b[0m, in \u001b[0;36mClient._request\u001b[1;34m(self, url, params, first_request_time, retry_counter, base_url, accepts_clientid, extract_body, requests_kwargs, post_json)\u001b[0m\n\u001b[0;32m    338\u001b[0m     result \u001b[39m=\u001b[39m extract_body(response)\n\u001b[0;32m    339\u001b[0m \u001b[39melse\u001b[39;00m:\n\u001b[1;32m--> 340\u001b[0m     result \u001b[39m=\u001b[39m \u001b[39mself\u001b[39;49m\u001b[39m.\u001b[39;49m_get_body(response)\n\u001b[0;32m    341\u001b[0m \u001b[39mself\u001b[39m\u001b[39m.\u001b[39msent_times\u001b[39m.\u001b[39mappend(time\u001b[39m.\u001b[39mtime())\n\u001b[0;32m    342\u001b[0m \u001b[39mreturn\u001b[39;00m result\n",
      "File \u001b[1;32mc:\\Users\\yhira\\anaconda3\\envs\\only-pip\\Lib\\site-packages\\googlemaps\\client.py:369\u001b[0m, in \u001b[0;36mClient._get_body\u001b[1;34m(self, response)\u001b[0m\n\u001b[0;32m    365\u001b[0m \u001b[39mif\u001b[39;00m api_status \u001b[39m==\u001b[39m \u001b[39m\"\u001b[39m\u001b[39mOVER_QUERY_LIMIT\u001b[39m\u001b[39m\"\u001b[39m:\n\u001b[0;32m    366\u001b[0m     \u001b[39mraise\u001b[39;00m googlemaps\u001b[39m.\u001b[39mexceptions\u001b[39m.\u001b[39m_OverQueryLimit(\n\u001b[0;32m    367\u001b[0m         api_status, body\u001b[39m.\u001b[39mget(\u001b[39m\"\u001b[39m\u001b[39merror_message\u001b[39m\u001b[39m\"\u001b[39m))\n\u001b[1;32m--> 369\u001b[0m \u001b[39mraise\u001b[39;00m googlemaps\u001b[39m.\u001b[39mexceptions\u001b[39m.\u001b[39mApiError(api_status,\n\u001b[0;32m    370\u001b[0m                                      body\u001b[39m.\u001b[39mget(\u001b[39m\"\u001b[39m\u001b[39merror_message\u001b[39m\u001b[39m\"\u001b[39m))\n",
      "\u001b[1;31mApiError\u001b[0m: REQUEST_DENIED (You must enable Billing on the Google Cloud Project at https://console.cloud.google.com/project/_/billing/enable Learn more at https://developers.google.com/maps/gmp-get-started)"
     ]
    }
   ],
   "source": [
    "import googlemaps\n",
    "import csv\n",
    "import time\n",
    "\n",
    "\n",
    "\n",
    "API = open(\"C:\\\\Users\\\\yhira\\\\OneDrive\\\\デスクトップ\\\\Project2_Hozon\\\\googlemaps_api.txt\",\"r\")\n",
    "APIkey = API.read()\n",
    "\n",
    "gmaps = googlemaps.Client(key=APIkey)\n",
    "\n",
    "with open(\"88kasyo.txt\", \"r\", encoding=\"utf-8_sig\") as f:\n",
    "    reader = csv.reader(f, delimiter='\\t')\n",
    "    for row in reader:\n",
    "        print(row[0])\n",
    "        result = gmaps.geocode(row[0])\n",
    "        lat = result[0][\"geometry\"][\"location\"][\"lat\"]\n",
    "        lng = result[0][\"geometry\"][\"location\"][\"lng\"]\n",
    "        print (lat,lng)\n",
    "        time.sleep(0.5)"
   ]
  }
 ],
 "metadata": {
  "kernelspec": {
   "display_name": "only-pip",
   "language": "python",
   "name": "python3"
  },
  "language_info": {
   "codemirror_mode": {
    "name": "ipython",
    "version": 3
   },
   "file_extension": ".py",
   "mimetype": "text/x-python",
   "name": "python",
   "nbconvert_exporter": "python",
   "pygments_lexer": "ipython3",
   "version": "3.11.3"
  },
  "orig_nbformat": 4
 },
 "nbformat": 4,
 "nbformat_minor": 2
}
