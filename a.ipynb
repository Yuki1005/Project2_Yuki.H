{
 "cells": [
  {
   "cell_type": "code",
   "execution_count": 4,
   "metadata": {},
   "outputs": [
    {
     "data": {
      "text/plain": [
       "'霊山寺\\n極楽寺\\n金泉寺\\n大日寺\\n地蔵寺\\n安楽寺\\n十楽寺\\n熊谷寺\\n法輪寺\\n切幡寺\\n藤井寺\\n焼山寺\\n大日寺\\n常楽寺\\n国分寺\\n観音寺\\n井戸寺\\n恩山寺\\n立江寺\\n鶴林寺\\n太龍寺\\n平等寺\\n薬王寺\\n'"
      ]
     },
     "execution_count": 4,
     "metadata": {},
     "output_type": "execute_result"
    }
   ],
   "source": [
    "import geocoder\n",
    "import csv"
   ]
  },
  {
   "cell_type": "code",
   "execution_count": 10,
   "metadata": {},
   "outputs": [
    {
     "name": "stdout",
     "output_type": "stream",
     "text": [
      "['霊山寺', '極楽寺', '金泉寺', '大日寺', '地蔵寺', '安楽寺', '十楽寺', '熊谷寺', '法輪寺', '切幡寺', '藤井寺', '焼山寺', '大日寺', '常楽寺', '国分寺', '観音寺', '井戸寺', '恩山寺', '立江寺', '鶴林寺', '太龍寺', '平等寺', '薬王寺', '']\n",
      "霊山寺,徳島県\n",
      "[34.077257849999995, 134.5224796140373]\n",
      "<[OK] Osm - Geocode [鈴江病院, 国道192号, 佐古八番町, 徳島市, 徳島県, 770-8571, 日本]>\n",
      "極楽寺,徳島県\n",
      "[36.6936932, 137.3957184]\n",
      "<[OK] Osm - Geocode [上市北馬場線, 極楽寺, 上市町, 中新川郡, 富山県, 930-0455, 日本]>\n",
      "金泉寺,徳島県\n",
      "[34.1529667, 134.4902033]\n",
      "<[OK] Osm - Geocode [金泉寺, 鳴門池田線, 川端, 鳴門市, 板野郡, 徳島県, 779-0225, 日本]>\n",
      "大日寺,徳島県\n",
      "[34.038105599999994, 134.46258518184646]\n",
      "<[OK] Osm - Geocode [大日寺, 263, 神山鮎喰線, 一宮町, 徳島市, 徳島県, 770-8571, 日本]>\n",
      "地蔵寺,徳島県\n",
      "[34.07603225, 134.58524816906916]\n",
      "<[OK] Osm - Geocode [地蔵寺, 沖ノ洲埠頭線, 金沢一丁目, 徳島市, 徳島県, 770-8571, 日本]>\n",
      "安楽寺,徳島県\n",
      "None\n",
      "<[ERROR - No results found] Osm - Geocode [empty]>\n",
      "十楽寺,徳島県\n",
      "None\n",
      "<[ERROR - No results found] Osm - Geocode [empty]>\n",
      "熊谷寺,徳島県\n",
      "[36.146302750000004, 139.3834687194688]\n",
      "<[OK] Osm - Geocode [熊谷寺, 中山道, 仲町, 熊谷市, 埼玉県, 360-0044, 日本]>\n",
      "法輪寺,徳島県\n",
      "None\n",
      "<[ERROR - No results found] Osm - Geocode [empty]>\n",
      "切幡寺,徳島県\n",
      "[34.4006552, 133.2110846]\n",
      "<[OK] Osm - Geocode [切幡寺, 国道317号, 尾道市, 広島県, 722-0062, 日本]>\n",
      "藤井寺,徳島県\n",
      "[34.57373475, 133.73728775270988]\n",
      "<[OK] Osm - Geocode [藤井寺, 水島港線, 水島北瑞穂町, 倉敷市, 岡山県, 712-8011, 日本]>\n",
      "焼山寺,徳島県\n",
      "[33.985057, 134.310411]\n",
      "<[OK] Osm - Geocode [第12番札所 焼山寺(Shosan-ji), 318, 林道焼山寺名ヶ平線, 下分, 神山町, 名西郡, 徳島県, 771-3421, 日本]>\n",
      "大日寺,徳島県\n",
      "[34.038105599999994, 134.46258518184646]\n",
      "<[OK] Osm - Geocode [大日寺, 263, 神山鮎喰線, 一宮町, 徳島市, 徳島県, 770-8571, 日本]>\n",
      "常楽寺,徳島県\n",
      "None\n",
      "<[ERROR - No results found] Osm - Geocode [empty]>\n",
      "国分寺,徳島県\n",
      "[35.48001445, 135.78861594346432]\n",
      "<[OK] Osm - Geocode [国分寺, 国道27号, 国分, 小浜市, 福井県, 日本]>\n",
      "観音寺,徳島県\n",
      "[34.0612512, 134.54505145000002]\n",
      "<[OK] Osm - Geocode [観音寺, 国道438号, 大道三丁目, 徳島市, 徳島県, 770-8571, 日本]>\n",
      "井戸寺,徳島県\n",
      "[34.061114, 134.258125]\n",
      "<[OK] Osm - Geocode [吉野川警察署山川町山崎駐在所, 244, 山川町堤内, 吉野川市, 徳島県, 779-3306, 日本]>\n",
      "恩山寺,徳島県\n",
      "[33.9860981, 134.5778614]\n",
      "<[OK] Osm - Geocode [第18番札所 恩山寺 (Onzan-ji), 40, 母養橋, 田野町, 小松島市, 徳島県, 773-0008, 日本]>\n",
      "立江寺,徳島県\n",
      "None\n",
      "<[ERROR - No results found] Osm - Geocode [empty]>\n",
      "鶴林寺,徳島県\n",
      "None\n",
      "<[ERROR - No results found] Osm - Geocode [empty]>\n",
      "太龍寺,徳島県\n",
      "[34.0720771, 134.55370197224073]\n",
      "<[OK] Osm - Geocode [太平 ビル, 国道192号, 八百屋町一丁目, 徳島市, 徳島県, 770-8571, 日本]>\n",
      "平等寺,徳島県\n",
      "[33.851728949999995, 134.58250779182066]\n",
      "<[OK] Osm - Geocode [平等寺, 阿南市, 徳島県, 日本]>\n",
      "薬王寺,徳島県\n",
      "None\n",
      "<[ERROR - No results found] Osm - Geocode [empty]>\n"
     ]
    }
   ],
   "source": [
    "basyo = []\n",
    "with open('88kasyo.txt') as f:\n",
    "    lines = f.read()\n",
    "    for l in lines.split(\"\\n\"):\n",
    "        basyo.append(l)\n",
    "print(basyo)\n",
    "kenmei = [\"徳島県\",\"高知県\",\"愛媛県\",\"香川県\"]\n",
    "j = 0\n",
    "for i in range(len(basyo)-1):\n",
    "    if i >= 23 and i <= 38:\n",
    "        j = 1\n",
    "    elif i >= 39 and i <= 64:\n",
    "        j = 2\n",
    "    elif i >= 65 and i <= 87:\n",
    "        j = 3\n",
    "    location = basyo[i]+\",\"+kenmei[j]\n",
    "    print(location)\n",
    "    ret = geocoder.osm(location, timeout=5.0)\n",
    "    zahyo = ret.latlng\n",
    "    print(zahyo)\n",
    "    print(ret)"
   ]
  },
  {
   "cell_type": "code",
   "execution_count": null,
   "metadata": {},
   "outputs": [],
   "source": []
  }
 ],
 "metadata": {
  "kernelspec": {
   "display_name": "only-pip",
   "language": "python",
   "name": "python3"
  },
  "language_info": {
   "codemirror_mode": {
    "name": "ipython",
    "version": 3
   },
   "file_extension": ".py",
   "mimetype": "text/x-python",
   "name": "python",
   "nbconvert_exporter": "python",
   "pygments_lexer": "ipython3",
   "version": "3.11.3"
  },
  "orig_nbformat": 4
 },
 "nbformat": 4,
 "nbformat_minor": 2
}
